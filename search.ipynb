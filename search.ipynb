{
  "nbformat": 4,
  "nbformat_minor": 0,
  "metadata": {
    "colab": {
      "provenance": [],
      "authorship_tag": "ABX9TyOmjYeie7okQz/cd+bHwnzo",
      "include_colab_link": true
    },
    "kernelspec": {
      "name": "python3",
      "display_name": "Python 3"
    },
    "language_info": {
      "name": "python"
    }
  },
  "cells": [
    {
      "cell_type": "markdown",
      "metadata": {
        "id": "view-in-github",
        "colab_type": "text"
      },
      "source": [
        "<a href=\"https://colab.research.google.com/github/HAITAME/LLM_agents/blob/main/search.ipynb\" target=\"_parent\"><img src=\"https://colab.research.google.com/assets/colab-badge.svg\" alt=\"Open In Colab\"/></a>"
      ]
    },
    {
      "cell_type": "markdown",
      "source": [
        "## Duckduckgo search"
      ],
      "metadata": {
        "id": "Xeqwv36uiGFa"
      }
    },
    {
      "cell_type": "code",
      "source": [
        "! pip install -U duckduckgo_search"
      ],
      "metadata": {
        "colab": {
          "base_uri": "https://localhost:8080/"
        },
        "id": "uYytyjjDhh7G",
        "outputId": "66f375db-e20c-4bfa-dabc-070d19afcf7b"
      },
      "execution_count": 2,
      "outputs": [
        {
          "output_type": "stream",
          "name": "stdout",
          "text": [
            "Collecting duckduckgo_search\n",
            "  Downloading duckduckgo_search-5.3.0-py3-none-any.whl (21 kB)\n",
            "Requirement already satisfied: click>=8.1.7 in /usr/local/lib/python3.10/dist-packages (from duckduckgo_search) (8.1.7)\n",
            "Collecting curl-cffi>=0.6.2 (from duckduckgo_search)\n",
            "  Downloading curl_cffi-0.6.3-cp38-abi3-manylinux_2_17_x86_64.manylinux2014_x86_64.whl (5.5 MB)\n",
            "\u001b[2K     \u001b[90m━━━━━━━━━━━━━━━━━━━━━━━━━━━━━━━━━━━━━━━━\u001b[0m \u001b[32m5.5/5.5 MB\u001b[0m \u001b[31m21.4 MB/s\u001b[0m eta \u001b[36m0:00:00\u001b[0m\n",
            "\u001b[?25hCollecting orjson>=3.10.0 (from duckduckgo_search)\n",
            "  Downloading orjson-3.10.1-cp310-cp310-manylinux_2_17_x86_64.manylinux2014_x86_64.whl (141 kB)\n",
            "\u001b[2K     \u001b[90m━━━━━━━━━━━━━━━━━━━━━━━━━━━━━━━━━━━━━━━━\u001b[0m \u001b[32m141.1/141.1 kB\u001b[0m \u001b[31m15.7 MB/s\u001b[0m eta \u001b[36m0:00:00\u001b[0m\n",
            "\u001b[?25hRequirement already satisfied: cffi>=1.12.0 in /usr/local/lib/python3.10/dist-packages (from curl-cffi>=0.6.2->duckduckgo_search) (1.16.0)\n",
            "Requirement already satisfied: certifi>=2024.2.2 in /usr/local/lib/python3.10/dist-packages (from curl-cffi>=0.6.2->duckduckgo_search) (2024.2.2)\n",
            "Requirement already satisfied: pycparser in /usr/local/lib/python3.10/dist-packages (from cffi>=1.12.0->curl-cffi>=0.6.2->duckduckgo_search) (2.22)\n",
            "Installing collected packages: orjson, curl-cffi, duckduckgo_search\n",
            "Successfully installed curl-cffi-0.6.3 duckduckgo_search-5.3.0 orjson-3.10.1\n"
          ]
        }
      ]
    },
    {
      "cell_type": "code",
      "execution_count": 3,
      "metadata": {
        "colab": {
          "base_uri": "https://localhost:8080/"
        },
        "id": "frEOQRxYhUX9",
        "outputId": "886125ba-da63-4079-a0f3-d551031806f4"
      },
      "outputs": [
        {
          "output_type": "stream",
          "name": "stdout",
          "text": [
            "[{'title': 'Welcome to Python.org', 'href': 'https://www.python.org/', 'body': 'Python is a versatile and powerful language that lets you work quickly and integrate systems more effectively. Learn how to get started, download the latest version, access documentation, find jobs, and join the Python community.'}, {'title': 'Python Tutorial - W3Schools', 'href': 'https://www.w3schools.com/python/default.asp', 'body': 'W3Schools offers a comprehensive and interactive Python tutorial with examples, exercises, quizzes, and references. You can also download Python, get certified, and track your progress with My Learning.'}, {'title': 'Python For Beginners | Python.org', 'href': 'https://www.python.org/about/gettingstarted/', 'body': 'Learn the basics of Python, a popular and easy-to-use programming language, from installing it to using it for various purposes. Find out how to access online documentation, tutorials, books, code samples, and more resources to help you get started with Python.'}, {'title': 'Python (programming language) - Wikipedia', 'href': 'https://en.wikipedia.org/wiki/Python_(programming_language)', 'body': 'Python is a high-level, general-purpose programming language.Its design philosophy emphasizes code readability with the use of significant indentation.. Python is dynamically typed and garbage-collected.It supports multiple programming paradigms, including structured (particularly procedural), object-oriented and functional programming.It is often described as a \"batteries included\" language ...'}, {'title': 'The Python Tutorial — Python 3.12.3 documentation', 'href': 'https://docs.python.org/3/tutorial/index.html', 'body': 'This tutorial introduces the basic concepts and features of the Python language and system, with examples and exercises. It covers topics such as data structures, modules, classes, exceptions, and more.'}]\n"
          ]
        }
      ],
      "source": [
        "from duckduckgo_search import DDGS\n",
        "\n",
        "results = DDGS().text(\"python programming\", max_results=5)\n",
        "print(results)"
      ]
    },
    {
      "cell_type": "code",
      "source": [
        "results"
      ],
      "metadata": {
        "colab": {
          "base_uri": "https://localhost:8080/"
        },
        "id": "Iqwgf7p3mmtH",
        "outputId": "deb1a58e-c873-4230-8cb1-d6e984743a77"
      },
      "execution_count": 4,
      "outputs": [
        {
          "output_type": "execute_result",
          "data": {
            "text/plain": [
              "[{'title': 'Welcome to Python.org',\n",
              "  'href': 'https://www.python.org/',\n",
              "  'body': 'Python is a versatile and powerful language that lets you work quickly and integrate systems more effectively. Learn how to get started, download the latest version, access documentation, find jobs, and join the Python community.'},\n",
              " {'title': 'Python Tutorial - W3Schools',\n",
              "  'href': 'https://www.w3schools.com/python/default.asp',\n",
              "  'body': 'W3Schools offers a comprehensive and interactive Python tutorial with examples, exercises, quizzes, and references. You can also download Python, get certified, and track your progress with My Learning.'},\n",
              " {'title': 'Python For Beginners | Python.org',\n",
              "  'href': 'https://www.python.org/about/gettingstarted/',\n",
              "  'body': 'Learn the basics of Python, a popular and easy-to-use programming language, from installing it to using it for various purposes. Find out how to access online documentation, tutorials, books, code samples, and more resources to help you get started with Python.'},\n",
              " {'title': 'Python (programming language) - Wikipedia',\n",
              "  'href': 'https://en.wikipedia.org/wiki/Python_(programming_language)',\n",
              "  'body': 'Python is a high-level, general-purpose programming language.Its design philosophy emphasizes code readability with the use of significant indentation.. Python is dynamically typed and garbage-collected.It supports multiple programming paradigms, including structured (particularly procedural), object-oriented and functional programming.It is often described as a \"batteries included\" language ...'},\n",
              " {'title': 'The Python Tutorial — Python 3.12.3 documentation',\n",
              "  'href': 'https://docs.python.org/3/tutorial/index.html',\n",
              "  'body': 'This tutorial introduces the basic concepts and features of the Python language and system, with examples and exercises. It covers topics such as data structures, modules, classes, exceptions, and more.'}]"
            ]
          },
          "metadata": {},
          "execution_count": 4
        }
      ]
    },
    {
      "cell_type": "code",
      "source": [
        "len(results)"
      ],
      "metadata": {
        "colab": {
          "base_uri": "https://localhost:8080/"
        },
        "id": "-p_jd3YtmvFp",
        "outputId": "633bb8f0-5921-4ed9-acef-dc04adb5e084"
      },
      "execution_count": 11,
      "outputs": [
        {
          "output_type": "execute_result",
          "data": {
            "text/plain": [
              "5"
            ]
          },
          "metadata": {},
          "execution_count": 11
        }
      ]
    },
    {
      "cell_type": "code",
      "source": [
        "for i in range(len(results)):\n",
        "  print(results[i])"
      ],
      "metadata": {
        "colab": {
          "base_uri": "https://localhost:8080/"
        },
        "id": "Jq_SWuX0nzk8",
        "outputId": "574352fc-3942-4d0c-864d-0356918c66b9"
      },
      "execution_count": 22,
      "outputs": [
        {
          "output_type": "stream",
          "name": "stdout",
          "text": [
            "{'title': 'Welcome to Python.org', 'href': 'https://www.python.org/', 'body': 'Python is a versatile and powerful language that lets you work quickly and integrate systems more effectively. Learn how to get started, download the latest version, access documentation, find jobs, and join the Python community.'}\n",
            "{'title': 'Python Tutorial - W3Schools', 'href': 'https://www.w3schools.com/python/default.asp', 'body': 'W3Schools offers a comprehensive and interactive Python tutorial with examples, exercises, quizzes, and references. You can also download Python, get certified, and track your progress with My Learning.'}\n",
            "{'title': 'Python For Beginners | Python.org', 'href': 'https://www.python.org/about/gettingstarted/', 'body': 'Learn the basics of Python, a popular and easy-to-use programming language, from installing it to using it for various purposes. Find out how to access online documentation, tutorials, books, code samples, and more resources to help you get started with Python.'}\n",
            "{'title': 'Python (programming language) - Wikipedia', 'href': 'https://en.wikipedia.org/wiki/Python_(programming_language)', 'body': 'Python is a high-level, general-purpose programming language.Its design philosophy emphasizes code readability with the use of significant indentation.. Python is dynamically typed and garbage-collected.It supports multiple programming paradigms, including structured (particularly procedural), object-oriented and functional programming.It is often described as a \"batteries included\" language ...'}\n",
            "{'title': 'The Python Tutorial — Python 3.12.3 documentation', 'href': 'https://docs.python.org/3/tutorial/index.html', 'body': 'This tutorial introduces the basic concepts and features of the Python language and system, with examples and exercises. It covers topics such as data structures, modules, classes, exceptions, and more.'}\n"
          ]
        }
      ]
    },
    {
      "cell_type": "code",
      "source": [
        "from __future__ import print_function\n",
        "for item in results:\n",
        "  print(item['body'])\n",
        "  print(\"--------\")"
      ],
      "metadata": {
        "colab": {
          "base_uri": "https://localhost:8080/"
        },
        "id": "78uV13T7pWk9",
        "outputId": "db0a55dd-a5fc-43e2-ebaf-5e3b6a729996"
      },
      "execution_count": 27,
      "outputs": [
        {
          "output_type": "stream",
          "name": "stdout",
          "text": [
            "Python is a versatile and powerful language that lets you work quickly and integrate systems more effectively. Learn how to get started, download the latest version, access documentation, find jobs, and join the Python community.\n",
            "--------\n",
            "W3Schools offers a comprehensive and interactive Python tutorial with examples, exercises, quizzes, and references. You can also download Python, get certified, and track your progress with My Learning.\n",
            "--------\n",
            "Learn the basics of Python, a popular and easy-to-use programming language, from installing it to using it for various purposes. Find out how to access online documentation, tutorials, books, code samples, and more resources to help you get started with Python.\n",
            "--------\n",
            "Python is a high-level, general-purpose programming language.Its design philosophy emphasizes code readability with the use of significant indentation.. Python is dynamically typed and garbage-collected.It supports multiple programming paradigms, including structured (particularly procedural), object-oriented and functional programming.It is often described as a \"batteries included\" language ...\n",
            "--------\n",
            "This tutorial introduces the basic concepts and features of the Python language and system, with examples and exercises. It covers topics such as data structures, modules, classes, exceptions, and more.\n",
            "--------\n"
          ]
        }
      ]
    },
    {
      "cell_type": "markdown",
      "source": [
        "## Google search"
      ],
      "metadata": {
        "id": "c0ZviT7Th98z"
      }
    },
    {
      "cell_type": "code",
      "source": [
        "!pip install google googlesearch-python"
      ],
      "metadata": {
        "colab": {
          "base_uri": "https://localhost:8080/",
          "height": 341
        },
        "id": "I9YW4wPCiqct",
        "outputId": "b1efee90-ca19-43e2-969b-c3332fd2b6d1"
      },
      "execution_count": 10,
      "outputs": [
        {
          "output_type": "stream",
          "name": "stdout",
          "text": [
            "Requirement already satisfied: google in /usr/local/lib/python3.10/dist-packages (2.0.3)\n",
            "Collecting googlesearch-python\n",
            "  Using cached googlesearch_python-1.2.4-py3-none-any.whl (4.5 kB)\n",
            "Requirement already satisfied: beautifulsoup4 in /usr/local/lib/python3.10/dist-packages (from google) (4.12.3)\n",
            "Requirement already satisfied: requests>=2.20 in /usr/local/lib/python3.10/dist-packages (from googlesearch-python) (2.31.0)\n",
            "Requirement already satisfied: soupsieve>1.2 in /usr/local/lib/python3.10/dist-packages (from beautifulsoup4->google) (2.5)\n",
            "Requirement already satisfied: charset-normalizer<4,>=2 in /usr/local/lib/python3.10/dist-packages (from requests>=2.20->googlesearch-python) (3.3.2)\n",
            "Requirement already satisfied: idna<4,>=2.5 in /usr/local/lib/python3.10/dist-packages (from requests>=2.20->googlesearch-python) (3.7)\n",
            "Requirement already satisfied: urllib3<3,>=1.21.1 in /usr/local/lib/python3.10/dist-packages (from requests>=2.20->googlesearch-python) (2.0.7)\n",
            "Requirement already satisfied: certifi>=2017.4.17 in /usr/local/lib/python3.10/dist-packages (from requests>=2.20->googlesearch-python) (2024.2.2)\n",
            "Installing collected packages: googlesearch-python\n",
            "Successfully installed googlesearch-python-1.2.4\n"
          ]
        },
        {
          "output_type": "display_data",
          "data": {
            "application/vnd.colab-display-data+json": {
              "pip_warning": {
                "packages": [
                  "googlesearch"
                ]
              },
              "id": "bb9e12cad01b4c44bfc960bc563adc43"
            }
          },
          "metadata": {}
        }
      ]
    },
    {
      "cell_type": "code",
      "source": [
        "from googlesearch import search\n",
        "\n",
        "for result in search(\"python programming\", num_results=5):\n",
        "    print(result)\n"
      ],
      "metadata": {
        "colab": {
          "base_uri": "https://localhost:8080/"
        },
        "id": "11r3DB94hb83",
        "outputId": "0439d37e-b4a4-4c93-990a-2bcf239c6d4a"
      },
      "execution_count": 2,
      "outputs": [
        {
          "output_type": "stream",
          "name": "stdout",
          "text": [
            "https://www.python.org/about/gettingstarted/\n",
            "https://www.python.org/\n",
            "https://en.wikipedia.org/wiki/Python_(programming_language)\n",
            "https://www.w3schools.com/python/python_intro.asp\n",
            "https://www.programiz.com/python-programming\n",
            "https://www.geeksforgeeks.org/python-programming-language/\n"
          ]
        }
      ]
    },
    {
      "cell_type": "code",
      "source": [
        "import requests\n",
        "from bs4 import BeautifulSoup"
      ],
      "metadata": {
        "id": "i79pPubBiO1-"
      },
      "execution_count": 3,
      "outputs": []
    },
    {
      "cell_type": "code",
      "source": [
        "for url in search(\"python programming\", num_results=5):\n",
        "    response = requests.get(url)\n",
        "    soup = BeautifulSoup(response.text, 'html.parser')\n",
        "\n",
        "    paragraphs = soup.find_all('p')\n",
        "    for paragraph in paragraphs:\n",
        "        print(paragraph.text)"
      ],
      "metadata": {
        "colab": {
          "base_uri": "https://localhost:8080/"
        },
        "id": "UfHp5vgmj39T",
        "outputId": "df31829a-3a7f-4623-e4c1-0fd821b4e023"
      },
      "execution_count": 5,
      "outputs": [
        {
          "output_type": "stream",
          "name": "stdout",
          "text": [
            "Notice: While JavaScript is not essential for this website, your interaction with the content will be limited. Please turn JavaScript on for the full experience. \n",
            "Welcome! Are you completely new to programming?\n",
            "If not then we presume you will be looking for information about\n",
            "why and how to get started with Python.\n",
            "Fortunately an\n",
            "experienced programmer in any programming language (whatever it may be)\n",
            "can pick up Python very quickly.\n",
            "It's also easy for beginners to use and learn, so\n",
            "jump in!\n",
            "Installing Python is generally easy, and nowadays\n",
            "many Linux and UNIX distributions include a recent Python.\n",
            "Even\n",
            "some Windows computers (notably those from HP) now come with Python\n",
            "already installed.\n",
            "If you do need to install Python and aren't confident about the\n",
            "task you can find\n",
            "a few notes on the\n",
            "BeginnersGuide/Download\n",
            "wiki page, but installation is unremarkable on most platforms.\n",
            "Before getting started, you may want to find out which IDEs and text\n",
            "editors are tailored to make\n",
            "Python editing easy, browse the list of introductory books, or look at code samples that you might find\n",
            "helpful.\n",
            "There is a list of tutorials suitable for experienced programmers on the\n",
            "BeginnersGuide/Tutorials\n",
            "page. There is also a list of\n",
            "resources in other languages\n",
            "which might be useful if English is not your first language.\n",
            "The online documentation\n",
            "is your first port of call for definitive information.\n",
            "There is a fairly brief\n",
            "tutorial\n",
            "that gives you basic information about the language and\n",
            "gets you started. You can follow this by looking at the\n",
            "library reference\n",
            "for a full description of Python's many libraries and the\n",
            "language reference for\n",
            "a complete (though somewhat dry) explanation of Python's syntax.\n",
            "If you are looking for common Python recipes and patterns, you\n",
            "can browse the ActiveState Python Cookbook\n",
            "If you want to know whether a particular application, or a library\n",
            "with particular functionality, is available in Python there are a\n",
            "number of possible sources of information. The Python web site\n",
            "provides a\n",
            "Python Package Index\n",
            "(also known as the Cheese Shop, a reference to the Monty Python\n",
            "script of that name).\n",
            "There is also a\n",
            "search page for a number of sources of Python-related\n",
            "information. Failing that, just\n",
            "Google for a phrase including the word ''python''\n",
            "and you may well get the result you need.\n",
            "If all else fails, ask on the\n",
            "python newsgroup\n",
            "and there's a good chance someone will put you on the right track.\n",
            "If you have a question, it's a good idea to try the\n",
            "FAQ, which answers the most commonly\n",
            "asked questions about Python.\n",
            "If you want to help to develop Python, take a look at the\n",
            "developer area for further information.\n",
            "Please note that you don't have to be an expert programmer\n",
            "to help.  The documentation is just as important as the\n",
            "compiler, and still needs plenty of work!\n",
            "The Python Software Foundation is the organization behind Python. Become a member of the PSF and help advance the software and our mission. \n",
            "\n",
            "Copyright ©2001-2024.\n",
            "                             Python Software Foundation\n",
            "                             Legal Statements\n",
            "                             Privacy Policy\n",
            "\n",
            "\n",
            "Notice: While JavaScript is not essential for this website, your interaction with the content will be limited. Please turn JavaScript on for the full experience. \n",
            "The core of extensible programming is defining functions. Python allows mandatory and optional arguments, keyword arguments, and even arbitrary argument lists. More about defining functions in Python 3\n",
            "Lists (known as arrays in other languages) are one of the compound data types that Python understands. Lists can be indexed, sliced and manipulated with other built-in functions. More about lists in Python 3\n",
            "Calculations are simple with Python, and expression syntax is straightforward: the operators +, -, * and / work as expected; parentheses () can be used for grouping. More about simple math functions in Python 3.\n",
            "Python knows the usual control flow statements that other languages speak — if, for, while and range — with some of its own twists, of course. More control flow tools in Python 3\n",
            "Experienced programmers in any other language can pick up Python very quickly, and beginners find the clean syntax and indentation structure easy to learn. Whet your appetite with our Python 3 overview.\n",
            "Python is a programming language that lets you work quickly and integrate systems more effectively. Learn More\n",
            "Whether you're new to programming or an experienced developer, it's easy to learn and use Python.\n",
            "Start with our Beginner’s Guide\n",
            "Python source code and installers are available for download for all versions!\n",
            "Latest: Python 3.12.3\n",
            "Documentation for Python's standard library, along with tutorials and guides, are available online.\n",
            "docs.python.org\n",
            "Looking for work or have a Python related position that you're trying to hire for? Our relaunched community-run job board is the place to go.\n",
            "jobs.python.org\n",
            "More\n",
            "More\n",
            "More\n",
            "Python provides convenience and flexibility for scalable ML/AI by Dean Wampler\n",
            "More\n",
            "The mission of the Python Software Foundation is to promote, protect, and advance the Python programming language, and to support and facilitate the growth of a diverse and international community of Python programmers. Learn more \n",
            "\n",
            "Become a Member\n",
            "Donate to the PSF\n",
            "\n",
            "\n",
            "Copyright ©2001-2024.\n",
            "                             Python Software Foundation\n",
            "                             Legal Statements\n",
            "                             Privacy Policy\n",
            "\n",
            "\n",
            "\n",
            "\n",
            "Python is a high-level, general-purpose programming language. Its design philosophy emphasizes code readability with the use of significant indentation.[32]\n",
            "\n",
            "Python is dynamically typed and garbage-collected. It supports multiple programming paradigms, including structured (particularly procedural), object-oriented and functional programming. It is often described as a \"batteries included\" language due to its comprehensive standard library.[33][34]\n",
            "\n",
            "Guido van Rossum began working on Python in the late 1980s as a successor to the ABC programming language and first released it in 1991 as Python 0.9.0.[35] Python 2.0 was released in 2000. Python 3.0, released in 2008, was a major revision not completely backward-compatible with earlier versions. Python 2.7.18, released in 2020, was the last release of Python 2.[36]\n",
            "\n",
            "Python consistently ranks as one of the most popular programming languages, and has gained widespread use in the machine learning community.[37][38][39][40]\n",
            "\n",
            "Python was invented in the late 1980s[41] by Guido van Rossum at Centrum Wiskunde & Informatica (CWI) in the Netherlands as a successor to the ABC programming language, which was inspired by SETL,[42] capable of exception handling and interfacing with the Amoeba operating system.[11] Its implementation began in December 1989.[43] Van Rossum shouldered sole responsibility for the project, as the lead developer, until 12 July 2018, when he announced his \"permanent vacation\" from his responsibilities as Python's \"benevolent dictator for life\" (BDFL), a title the Python community bestowed upon him to reflect his long-term commitment as the project's chief decision-maker[44] (he's since come out of retirement and is self-titled \"BDFL-emeritus\"). In January 2019, active Python core developers elected a five-member Steering Council to lead the project.[45][46]\n",
            "\n",
            "Python 2.0 was released on 16 October 2000, with many major new features such as list comprehensions, cycle-detecting garbage collection, reference counting, and Unicode support.[47] Python 3.0, released on 3 December 2008, with many of its major features backported to Python 2.6.x[48] and 2.7.x. Releases of Python 3 include the 2to3 utility, which automates the translation of Python 2 code to Python 3.[49]\n",
            "\n",
            "Python 2.7's end-of-life was initially set for 2015, then postponed to 2020 out of concern that a large body of existing code could not easily be forward-ported to Python 3.[50][51] No further security patches or other improvements will be released for it.[52][53] Currently only 3.8 and later are supported (2023 security issues were fixed in e.g. 3.7.17, the final 3.7.x release[54]). While Python 2.7 and older is officially unsupported, a different unofficial Python implementation, PyPy, continues to support Python 2, i.e. \"2.7.18+\" (plus 3.9 and 3.10), with the plus meaning (at least some) \"backported security updates\".[55]\n",
            "\n",
            "In 2021 (and again twice in 2022), security updates were expedited, since all Python versions were insecure (including 2.7[56]) because of security issues leading to possible remote code execution[57] and web-cache poisoning.[58] In 2022, Python 3.10.4 and 3.9.12 were expedited[59] and 3.8.13, because of many security issues.[60] When Python 3.9.13 was released in May 2022, it was announced that the 3.9 series (joining the older series 3.8 and 3.7) would only receive security fixes in the future.[61] On 7 September 2022, four new releases were made due to a potential denial-of-service attack: 3.10.7, 3.9.14, 3.8.14, and 3.7.14.[62][63]\n",
            "\n",
            "As of October 2023,[update] Python 3.12 is the stable release, and 3.12 and 3.11 are the only versions with active (as opposed to just security) support. Notable changes in 3.11 from 3.10 include increased program execution speed and improved error reporting.[64]\n",
            "\n",
            "Python 3.12 adds syntax (and in fact every Python since at least 3.5 adds some syntax) to the language, the new (soft) keyword type (recent releases have added a lot of typing support e.g. new type union operator in 3.10), and 3.11 for exception handling, and 3.10 the match and case (soft) keywords, for structural pattern matching statements. Python 3.12 also drops outdated modules and functionality, and future versions will too, see below in Development section.\n",
            "\n",
            "Python 3.11 claims to be between 10 and 60% faster than Python 3.10, and Python 3.12 adds another 5% on top of that. It also has improved error messages, and many other changes.\n",
            "\n",
            "Since 27 June 2023[update], Python 3.8 is the oldest supported version of Python (albeit in the 'security support' phase), due to Python 3.7 reaching end-of-life.[65]\n",
            "\n",
            "Python 3.13 has a garbage collector which is now incremental (can mean much shorter pauses), and has an experimental JIT compiler;[66] and it removes from the C API (and removes some standard library modules, 19 dead batteries, and many deprecated classes, functions and methods, and more will be removed in Python 3.15 and or 3.16).[67] Starting with 3.13, it and later versions have 2 years of full support (up from one and a half); followed by 3 years of security support (for same total support as before).\n",
            "\n",
            "Python is a multi-paradigm programming language. Object-oriented programming and structured programming are fully supported, and many of their features support functional programming and aspect-oriented programming (including metaprogramming[68] and metaobjects).[69] Many other paradigms are supported via extensions, including design by contract[70][71] and logic programming.[72]\n",
            "\n",
            "Python uses dynamic typing and a combination of reference counting and a cycle-detecting garbage collector for memory management.[73] It uses dynamic name resolution (late binding), which binds method and variable names during program execution.\n",
            "\n",
            "Its design offers some support for functional programming in the Lisp tradition. It has filter,mapandreduce functions; list comprehensions, dictionaries, sets, and generator expressions.[74] The standard library has two modules (itertools and functools) that implement functional tools borrowed from Haskell and Standard ML.[75]\n",
            "\n",
            "Its core philosophy is summarized in the Zen of Python (PEP 20), which includes aphorisms such as:[76]\n",
            "\n",
            "However, Python features regularly violate these principles and received criticism for adding unnecessary language bloat.[77][78] Responses to these criticisms are that the Zen of Python is a guideline rather than a rule.[79] The addition of some new features had been so controversial that Guido van Rossum resigned as Benevolent Dictator for Life following vitriol over the addition of the assignment expression operator in Python 3.8.[80][81]\n",
            "\n",
            "Nevertheless, rather than building all of its functionality into its core, Python was designed to be highly extensible via modules. This compact modularity has made it particularly popular as a means of adding programmable interfaces to existing applications. Van Rossum's vision of a small core language with a large standard library and easily extensible interpreter stemmed from his frustrations with ABC, which espoused the opposite approach.[41]\n",
            "\n",
            "Python claims to strive for a simpler, less-cluttered syntax and grammar while giving developers a choice in their coding methodology. In contrast to Perl's \"there is more than one way to do it\" motto, Python embraces a \"there should be one—and preferably only one—obvious way to do it.\" philosophy.[76] In practice, however, Python provides many ways to achieve the same task. There are, for example, at least three ways to format a string literal, with no certainty as to which one a programmer should use.[82] Alex Martelli, a Fellow at the Python Software Foundation and Python book author, wrote: \"To describe something as 'clever' is not considered a compliment in the Python culture.\"[83]\n",
            "\n",
            "Python's developers usually strive to avoid premature optimization and reject patches to non-critical parts of the CPython reference implementation that would offer marginal increases in speed at the cost of clarity.[84] Execution speed can be improved by moving speed-critical functions to extension modules written in languages such as C, or by using a just-in-time compiler like PyPy. It is also possible to cross-compile to other languages, but it either doesn't provide the full speed-up that might be expected, since Python is a very dynamic language, or a restricted subset of Python is compiled, and possibly semantics are slightly changed.[85]\n",
            "\n",
            "Python's developers aim for it to be fun to use. This is reflected in its name—a tribute to the British comedy group Monty Python[86]—and in occasionally playful approaches to tutorials and reference materials, such as the use of the terms \"spam\" and \"eggs\" (a reference to a Monty Python sketch) in examples, instead of the often-used \"foo\" and \"bar\".[87][88] A common neologism in the Python community is pythonic, which has a wide range of meanings related to program style. \"Pythonic\" code may use Python idioms well, be natural or show fluency in the language, or conform with Python's minimalist philosophy and emphasis on readability. Code that is difficult to understand or reads like a rough transcription from another programming language is called unpythonic.[89][90]\n",
            "\n",
            "Python is meant to be an easily readable language. Its formatting is visually uncluttered and often uses English keywords where other languages use punctuation. Unlike many other languages, it does not use curly brackets to delimit blocks, and semicolons after statements are allowed but rarely used. It has fewer syntactic exceptions and special cases than C or Pascal.[91]\n",
            "\n",
            "Python uses whitespace indentation, rather than curly brackets or keywords, to delimit blocks. An increase in indentation comes after certain statements; a decrease in indentation signifies the end of the current block.[92] Thus, the program's visual structure accurately represents its semantic structure.[93] This feature is sometimes termed the off-side rule. Some other languages use indentation this way; but in most, indentation has no semantic meaning. The recommended indent size is four spaces.[94]\n",
            "\n",
            "Python's statements include:\n",
            "\n",
            "The assignment statement (=) binds a name as a reference to a separate, dynamically allocated object. Variables may subsequently be rebound at any time to any object. In Python, a variable name is a generic reference holder without a fixed data type; however, it always refers to some object with a type. This is called dynamic typing—in contrast to statically-typed languages, where each variable may contain only a value of a certain type.\n",
            "\n",
            "Python does not support tail call optimization or first-class continuations, and, according to Van Rossum, it never will.[97][98] However, better support for coroutine-like functionality is provided by extending Python's generators.[99] Before 2.5, generators were lazy iterators; data was passed unidirectionally out of the generator. From Python 2.5 on, it is possible to pass data back into a generator function; and from version 3.3, it can be passed through multiple stack levels.[100]\n",
            "\n",
            "Python's expressions include:\n",
            "\n",
            "In Python, a distinction between expressions and statements is rigidly enforced, in contrast to languages such as Common Lisp, Scheme, or Ruby. This leads to duplicating some functionality. For example:\n",
            "\n",
            "Statements cannot be a part of an expression—so list and other comprehensions or lambda expressions, all being expressions, cannot contain statements. A particular case is that an assignment statement such as a = 1 cannot form part of the conditional expression of a conditional statement. This has the advantage of avoiding a classic C error of mistaking an assignment operator = for an equality operator == in conditions: if (c = 1) { ...} is syntactically valid (but probably unintended) C code, but if c = 1: ... causes a syntax error in Python.\n",
            "\n",
            "Methods on objects are functions attached to the object's class; the syntax instance.method(argument) is, for normal methods and functions, syntactic sugar for Class.method(instance, argument). Python methods have an explicit self parameter to access instance data, in contrast to the implicit self (or this) in some other object-oriented programming languages (e.g., C++, Java, Objective-C, Ruby).[109] Python also provides methods, often called dunder methods (due to their names beginning and ending with double-underscores), to allow user-defined classes to modify how they are handled by native operations including length, comparison, in arithmetic operations and type conversion.[110]\n",
            "\n",
            "Python uses duck typing and has typed objects but untyped variable names. Type constraints are not checked at compile time; rather, operations on an object may fail, signifying that it is not of a suitable type. Despite being dynamically typed, Python is strongly typed, forbidding operations that are not well-defined (for example, adding a number to a string) rather than silently attempting to make sense of them.\n",
            "\n",
            "Python allows programmers to define their own types using classes, most often used for object-oriented programming. New instances of classes are constructed by calling the class (for example, SpamClass() or EggsClass()), and the classes are instances of the metaclass type (itself an instance of itself), allowing metaprogramming and reflection.\n",
            "\n",
            "Before version 3.0, Python had two kinds of classes (both using the same syntax): old-style and new-style,[111] current Python versions only support the semantics new style.\n",
            "\n",
            "Python supports optional type annotations.[4][112] These annotations are not enforced by the language, but may be used by external tools such as mypy to catch errors.[113][114] Mypy also supports a Python compiler called mypyc, which leverages type annotations for optimization.[115]\n",
            "\n",
            "1.33333\n",
            "\n",
            "Python has the usual symbols for arithmetic operators (+, -, *, /), the floor division operator // and the modulo operation % (where the remainder can be negative, e.g. 4 % -3 == -2). It also has ** for exponentiation, e.g. 5**3 == 125 and 9**0.5 == 3.0, and a matrix‑multiplication operator @ .[119] These operators work like in traditional math; with the same precedence rules, the operators infix (+ and - can also be unary to represent positive and negative numbers respectively).\n",
            "\n",
            "The division between integers produces floating-point results. The behavior of division has changed significantly over time:[120]\n",
            "\n",
            "In Python terms, / is true division (or simply division), and // is floor division. / before version 3.0 is classic division.[120]\n",
            "\n",
            "Rounding towards negative infinity, though different from most languages, adds consistency. For instance, it means that the equation (a + b)//b == a//b + 1 is always true. It also means that the equation b*(a//b) + a%b == a is valid for both positive and negative values of a. However, maintaining the validity of this equation means that while the result of a%b is, as expected, in the half-open interval [0, b), where b is a positive integer, it has to lie in the interval (b, 0] when b is negative.[121]\n",
            "\n",
            "Python provides a round function for rounding a float to the nearest integer. For tie-breaking, Python 3 uses round to even: round(1.5) and round(2.5) both produce 2.[122] Versions before 3 used round-away-from-zero: round(0.5) is 1.0, round(-0.5) is −1.0.[123]\n",
            "\n",
            "Python allows Boolean expressions with multiple equality relations in a manner that is consistent with general use in mathematics. For example, the expression a < b < c tests whether a is less than b and b is less than c.[124] C-derived languages interpret this expression differently: in C, the expression would first evaluate a < b, resulting in 0 or 1, and that result would then be compared with c.[125]\n",
            "\n",
            "Python uses arbitrary-precision arithmetic for all integer operations. The Decimal type/class in the decimal module provides decimal floating-point numbers to a pre-defined arbitrary precision and several rounding modes.[126] The Fraction class in the fractions module provides arbitrary precision for rational numbers.[127]\n",
            "\n",
            "Due to Python's extensive mathematics library, and the third-party library NumPy that further extends the native capabilities, it is frequently used as a scientific scripting language to aid in problems such as numerical data processing and manipulation.[128][129]\n",
            "\n",
            "\"Hello, World!\" program:\n",
            "\n",
            "Program to calculate the factorial of a positive integer:\n",
            "\n",
            "Python's large standard library[130] provides tools suited to many tasks and is commonly cited as one of its greatest strengths. For Internet-facing applications, many standard formats and protocols such as MIME and HTTP are supported. It includes modules for creating graphical user interfaces, connecting to relational databases, generating pseudorandom numbers, arithmetic with arbitrary-precision decimals,[126] manipulating regular expressions, and unit testing.\n",
            "\n",
            "Some parts of the standard library are covered by specifications—for example, the Web Server Gateway Interface (WSGI) implementation wsgiref follows PEP 333[131]—but most are specified by their code, internal documentation, and test suites. However, because most of the standard library is cross-platform Python code, only a few modules need altering or rewriting for variant implementations.\n",
            "\n",
            "As of 17 March 2024,[update] the Python Package Index (PyPI), the official repository for third-party Python software, contains over 523,000[132] packages with a wide range of functionality, including:\n",
            "\n",
            "Most Python implementations (including CPython) include a read–eval–print loop (REPL), permitting them to function as a command line interpreter for which users enter statements sequentially and receive results immediately.\n",
            "\n",
            "Python also comes with an Integrated development environment (IDE) called IDLE, which is more beginner-oriented.\n",
            "\n",
            "Other shells, including IDLE and IPython, add further abilities such as improved auto-completion, session state retention, and syntax highlighting.\n",
            "\n",
            "As well as standard desktop integrated development environments including PyCharm, IntelliJ Idea, Visual Studio Code etc, there are web browser-based IDEs, including SageMath, for developing science- and math-related programs; PythonAnywhere, a browser-based IDE and hosting environment; and Canopy IDE, a commercial IDE emphasizing scientific computing.[133]\n",
            "\n",
            "CPython is the reference implementation of Python. It is written in C, meeting the C89 standard (Python 3.11 uses C11[134]) with several select C99 features. CPython includes its own C extensions, but third-party extensions are not limited to older C versions—e.g. they can be implemented with C11 or C++.[135][136]) It compiles Python programs into an intermediate bytecode[137] which is then executed by its virtual machine.[138] CPython is distributed with a large standard library written in a mixture of C and native Python, and is available for many platforms, including Windows (starting with Python 3.9, the Python installer deliberately fails to install on Windows 7 and 8;[139][140] Windows XP was supported until Python 3.5) and most modern Unix-like systems, including macOS (and Apple M1 Macs, since Python 3.9.1, with experimental installer) and unofficial support for e.g. VMS.[141] Platform portability was one of its earliest priorities.[142] (During Python 1 and 2 development, even OS/2 and Solaris were supported,[143] but support has since been dropped for many platforms.)\n",
            "\n",
            "Python, since 3.7, only supports operating systems with multi-threading support.\n",
            "\n",
            "Other just-in-time Python compilers have been developed, but are now unsupported:\n",
            "\n",
            "There are several compilers/transpilers to high-level object languages, with either unrestricted Python, a restricted subset of Python, or a language similar to Python as the source language:\n",
            "\n",
            "Specialized:\n",
            "\n",
            "Older projects (or not to be used with Python 3.x and latest syntax):\n",
            "\n",
            "Performance comparison of various Python implementations on a non-numerical (combinatorial) workload was presented at EuroSciPy '13.[171] Python's performance compared to other programming languages is also benchmarked by The Computer Language Benchmarks Game.[172]\n",
            "\n",
            "Python's development is conducted largely through the Python Enhancement Proposal (PEP) process, the primary mechanism for proposing major new features, collecting community input on issues, and documenting Python design decisions.[173] Python coding style is covered in PEP 8.[174] Outstanding PEPs are reviewed and commented on by the Python community and the steering council.[173]\n",
            "\n",
            "Enhancement of the language corresponds with the development of the CPython reference implementation. The mailing list python-dev is the primary forum for the language's development. Specific issues were originally discussed in the Roundup bug tracker hosted at by the foundation.[175] In 2022, all issues and discussions were migrated to GitHub.[176] Development originally took place on a self-hosted source-code repository running Mercurial, until Python moved to GitHub in January 2017.[177]\n",
            "\n",
            "CPython's public releases come in three types, distinguished by which part of the version number is incremented:\n",
            "\n",
            "Many alpha, beta, and release-candidates are also released as previews and for testing before final releases. Although there is a rough schedule for each release, they are often delayed if the code is not ready. Python's development team monitors the state of the code by running the large unit test suite during development.[183]\n",
            "\n",
            "The major academic conference on Python is PyCon. There are also special Python mentoring programs, such as PyLadies.\n",
            "\n",
            "Python 3.12 removed wstr meaning Python extensions[184] need to be modified,[185] and 3.10 added pattern matching to the language.[186]\n",
            "\n",
            "Python 3.12 dropped some outdated modules, and more will be dropped in the future, deprecated as of 3.13; already deprecated array 'u' format code will emit DeprecationWarning since 3.13 and will be removed in Python 3.16. The 'w' format code should be used instead. Part of ctypes is also deprecated and http.server.CGIHTTPRequestHandler will emit a DeprecationWarning, and will be removed in 3.15. Using that code already has a high potential for both security and functionality bugs. Parts of the typing module are deprecated, e.g. creating a typing.NamedTuple class using keyword arguments to denote the fields and such (and more) will be disallowed in Python 3.15.\n",
            "\n",
            "Tools that can generate documentation for Python API include pydoc (available as part of the standard library), Sphinx, Pdoc and its forks, Doxygen and Graphviz, among others.[187]\n",
            "\n",
            "Python's name is derived from the British comedy group Monty Python, whom Python creator Guido van Rossum enjoyed while developing the language. Monty Python references appear frequently in Python code and culture;[188] for example, the metasyntactic variables often used in Python literature are spam and eggs instead of the traditional foo and bar.[188][189] The official Python documentation also contains various references to Monty Python routines.[190][191] Users of Python are sometimes referred to as \"Pythonistas\".[192]\n",
            "\n",
            "The prefix Py- is used to show that something is related to Python. Examples of the use of this prefix in names of Python applications or libraries include Pygame, a binding of SDL to Python (commonly used to create games); PyQt and PyGTK, which bind Qt and GTK to Python respectively; and PyPy, a Python implementation originally written in Python.\n",
            "\n",
            "Since 2003, Python has consistently ranked in the top ten most popular programming languages in the TIOBE Programming Community Index where as of December 2022[update] it was the most popular language (ahead of C, C++, and Java).[39] It was selected as Programming Language of the Year (for \"the highest rise in ratings in a year\") in 2007, 2010, 2018, and 2020 (the only language to have done so four times as of 2020[update][193]).\n",
            "\n",
            "Large organizations that use Python include Wikipedia, Google,[194] Yahoo!,[195] CERN,[196] NASA,[197] Facebook,[198] Amazon, Instagram,[199] Spotify,[200] and some smaller entities like ILM[201] and ITA.[202] The social news networking site Reddit was written mostly in Python.[203]\n",
            "\n",
            "Python can serve as a scripting language for web applications, e.g. via mod_wsgi for the Apache webserver.[204] With Web Server Gateway Interface, a standard API has evolved to facilitate these applications. Web frameworks like Django, Pylons, Pyramid, TurboGears, web2py, Tornado, Flask, Bottle, and Zope support developers in the design and maintenance of complex applications. Pyjs and IronPython can be used to develop the client-side of Ajax-based applications. SQLAlchemy can be used as a data mapper to a relational database. Twisted is a framework to program communications between computers, and is used (for example) by Dropbox.\n",
            "\n",
            "Libraries such as NumPy, SciPy and Matplotlib allow the effective use of Python in scientific computing,[205][206] with specialized libraries such as Biopython and Astropy providing domain-specific functionality. SageMath is a computer algebra system with a notebook interface programmable in Python: its library covers many aspects of mathematics, including algebra, combinatorics, numerical mathematics, number theory, and calculus.[207] OpenCV has Python bindings with a rich set of features for computer vision and image processing.[208]\n",
            "\n",
            "Python is commonly used in artificial intelligence projects and machine learning projects with the help of libraries like TensorFlow, Keras, Pytorch, scikit-learn and the Logic language ProbLog.[209][210][211][212][213] As a scripting language with a modular architecture, simple syntax, and rich text processing tools, Python is often used for natural language processing.[214]\n",
            "\n",
            "The combination of Python and Prolog has proved to be particularly useful for AI applications, with Prolog providing knowledge representation and reasoning capablities. The Janus system, in particular, exploits the similarites between these two languages,\n",
            "in part because of their use of dynamic typing, and the simple recursive nature of their\n",
            "data structures. Typical applications of this combination include  natural language processing, visual query\n",
            "answering, geospatial reasoning, and handling of semantic web data.[215][216]\n",
            "The Natlog system, implemented in Python, uses Definite Clause Grammars (DCGs) as prompt generators for text-to-text generators like GPT3 and text-to-image generators like DALL-E or Stable Diffusion.[217]\n",
            "\n",
            "Python can also be used for graphical user interface (GUI) by using libraries like Tkinter.[218][219]\n",
            "\n",
            "Python has been successfully embedded in many software products as a scripting language, including in finite element method software such as Abaqus, 3D parametric modelers like FreeCAD, 3D animation packages such as 3ds Max, Blender, Cinema 4D, Lightwave, Houdini, Maya, modo, MotionBuilder, Softimage, the visual effects compositor Nuke, 2D imaging programs like GIMP,[220] Inkscape, Scribus and Paint Shop Pro,[221] and musical notation programs like scorewriter and capella. GNU Debugger uses Python as a pretty printer to show complex structures such as C++ containers. Esri promotes Python as the best choice for writing scripts in ArcGIS.[222] It has also been used in several video games,[223][224] and has been adopted as first of the three available programming languages in Google App Engine, the other two being Java and Go.[225]\n",
            "\n",
            "Many operating systems include Python as a standard component. It ships with most Linux distributions,[226] AmigaOS 4 (using Python 2.7), FreeBSD (as a package), NetBSD, and OpenBSD (as a package) and can be used from the command line (terminal). Many Linux distributions use installers written in Python: Ubuntu uses the Ubiquity installer, while Red Hat Linux and Fedora Linux use the Anaconda installer. Gentoo Linux uses Python in its package management system, Portage.\n",
            "\n",
            "Python is used extensively in the information security industry, including in exploit development.[227][228]\n",
            "\n",
            "Most of the Sugar software for the One Laptop per Child XO, developed at Sugar Labs as of 2008[update], is written in Python.[229] The Raspberry Pi single-board computer project has adopted Python as its main user-programming language.\n",
            "\n",
            "LibreOffice includes Python and intends to replace Java with Python. Its Python Scripting Provider is a core feature[230] since Version 4.0 from 7 February 2013.\n",
            "\n",
            "Python's design and philosophy have influenced many other programming languages:\n",
            "\n",
            "Python's development practices have also been emulated by other languages. For example, the practice of requiring a document describing the rationale for, and issues surrounding, a change to the language (in Python, a PEP) is also used in Tcl,[243] Erlang,[244] and Swift.[245]\n",
            "\n",
            "\n",
            "                W3Schools offers a wide range of services and products for beginners and professionals,\n",
            "                \n",
            "                helping millions of people everyday to learn and master new skills.\n",
            "              \n",
            "Enjoy our free tutorials like millions of other internet users since 1999\n",
            "Explore our selection of references covering all popular coding languages\n",
            "\n",
            "                      Create your own website with\n",
            "                      W3Schools Spaces\n",
            "                      - no setup required\n",
            "                    \n",
            "Test your skills with different exercises\n",
            "Test yourself with multiple choice questions\n",
            "Document your knowledge\n",
            "\n",
            "                      Create a\n",
            "                      free\n",
            "                      W3Schools Account to Improve Your Learning Experience\n",
            "                    \n",
            "Track your learning progress at W3Schools and collect rewards\n",
            "Become a PLUS user and unlock powerful features (ad-free, hosting, support,..)\n",
            "Not sure where you want to start? Follow our guided path\n",
            "With our online code editor, you can edit code and view the result in your browser\n",
            "Learn the basics of HTML in a fun and engaging video tutorial\n",
            "We have created a bunch of responsive website templates you can use - for free!\n",
            "\n",
            "                      Host your own website, and share it to the world with\n",
            "                      W3Schools Spaces\n",
            "\n",
            "Create your own server using Python, PHP, React.js, Node.js, Java, C#, etc.\n",
            "Large collection of code snippets for HTML, CSS and JavaScript\n",
            "\n",
            "                      Build fast and responsive sites using our free\n",
            "                      W3.CSS\n",
            "                      framework\n",
            "                    \n",
            "Read long term trends of browser usage\n",
            "Test your typing speed\n",
            "Learn Amazon Web Services\n",
            "\n",
            "                      Use our color picker to find different RGB, HEX and HSL colors.\n",
            "                      \n",
            "\n",
            "\n",
            "                      W3Schools Coding Game! Help the lynx collect pine cones\n",
            "                      \n",
            "\n",
            "Get personalized learning journey based on your current skills and goals\n",
            "Join our newsletter and get access to exclusive content every month\n",
            "Hire top tech talents. Streamline your hiring process for the perfect team fit\n",
            "\n",
            "                      About sales:\n",
            "                      sales@w3schools.com\n",
            "\n",
            "                      About errors:\n",
            "                      help@w3schools.com\n",
            "\n",
            "Get in touch for using W3Schools Plus and certifications as an educational institution\n",
            "Python is a popular programming language. It was created by Guido van Rossum, \n",
            "and released in 1991.\n",
            "It is used for:\n",
            "If you want to use W3Schools services as an educational institution, team or enterprise, send us an e-mail:sales@w3schools.com\n",
            "If you want to report an error, or if you want to make a suggestion, send us an e-mail:help@w3schools.com\n",
            "Try Programiz PRO\n",
            "Learn Python practically \n",
            "                and Get Certified.\n",
            "Learn Python practically \n",
            "                        and Get Certified.\n",
            "\n",
            "Python is a popular general-purpose programming language. It is used in machine learning, web development, desktop applications, and many other fields. Fortunately for beginners, Python has a simple, easy-to-use syntax. This makes Python a great language to learn for beginners.\n",
            "Our Python tutorials will cover all the fundamental concepts of Python. And by the end, you will be comfortable creating projects in Python.\n",
            "Do you want to learn Python the right way? Enroll in our Interactive Python Course for FREE.\n",
            "© Parewa Labs Pvt. Ltd. All rights reserved.\n",
            "This Programming Language Python Tutorial is very well suited for beginners and also for experienced programmers. This specially designed free Python tutorial will help you learn Python programming most efficiently, with all topics from basics to advanced (like Web-scraping, Django, Learning, etc.) with examples.\n",
            "Python is a high-level, general-purpose, and very popular programming language. Python programming language (latest Python 3) is being used in web development, and Machine Learning applications, along with all cutting-edge technology in Software Industry. Python language is being used by almost all tech-giant companies like – Google, Amazon, Facebook, Instagram, Dropbox, Uber… etc. \n",
            "There are two ways you can execute your Python program: \n",
            "Here we provided the latest Python 3 version compiler where you can edit and compile your written code directly with just one click of the RUN Button. So test yourself with Python first exercises.\n",
            "Let us now see what will you learn in this Python Tutorial, in detail:\n",
            "The first and foremost step to get started with Python tutorial is to setup Python in your system.\n",
            "\n",
            "Below are the steps based your system requirements:\n",
            "Note: Python 3.13 is the latest version of Python, but Python 3.12 is the latest stable version.\n",
            "Now let us deep dive into the basics and components to learn Python Programming:\n",
            "Welcome to the Python tutorial section! Here, we’ll cover the essential elements you need to kickstart your journey in Python programming. From syntax and keywords to comments, variables, and indentation, we’ll explore the foundational concepts that underpin Python development.\n",
            "In this segment, we delve into the fundamental aspects of handling input and output operations in Python, crucial for interacting with users and processing data effectively. From mastering the versatile print() function to exploring advanced formatting techniques and efficient methods for receiving user input, this section equips you with the necessary skills to harness Python’s power in handling data streams seamlessly. \n",
            "Python offers, enabling you to manipulate and manage data with precision and flexibility. Additionally, we’ll delve into the dynamic world of data conversion with casting, and then move on to explore the versatile collections Python provides, including lists, tuples, sets, dictionaries, and arrays.\n",
            "\n",
            "By the end of this section, you’ll not only grasp the essence of Python’s data types but also wield them proficiently to tackle a wide array of programming challenges with confidence. \n",
            "From performing basic arithmetic operations to evaluating complex logical expressions, we’ll cover it all. We’ll delve into comparison operators for making decisions based on conditions, and then explore bitwise operators for low-level manipulation of binary data. Additionally, we’ll unravel the intricacies of assignment operators for efficient variable assignment and updating. Lastly, we’ll demystify membership and identity operators, such as in and is, enabling you to test for membership in collections and compare object identities with confidence.\n",
            "These statements are pivotal in programming, enabling dynamic decision-making and code branching. In this section of Python Tutorial, we’ll explore Python’s conditional logic, from basic if…else statements to nested conditions and the concise ternary operator. We’ll also introduce the powerful match case statement, new in Python 3.10. By the end, you’ll master these constructs, empowering you to write clear, efficient code that responds intelligently to various scenarios. Let’s dive in and unlock the potential of Python’s conditional statements.\n",
            "Here, we’ll explore Python’s loop constructs, including the for and while loops, along with essential loop control statements like break, continue, and pass. Additionally, we’ll uncover the concise elegance of list and dictionary comprehensions for efficient data manipulation. By mastering these loop techniques, you’ll streamline your code for improved readability and performance. \n",
            "Functions are the backbone of organized and efficient code in Python. Here, we’ll explore their syntax, parameter handling, return values, and variable scope. From basic concepts to advanced techniques like closures and decorators. Along the way, we’ll also introduce versatile functions like range(), and powerful tools such as *args and **kwargs for flexible parameter handling. Additionally, we’ll delve into functional programming with map, filter, and lambda functions.\n",
            "In this segment, we’ll explore the core principles of object-oriented programming (OOP) in Python. From encapsulation to inheritance, polymorphism, abstract classes, and iterators, we’ll cover the essential concepts that empower you to build modular, reusable, and scalable code. \n",
            "In this section of Python Tutorial, we’ll explore how Python deals with unexpected errors, enabling you to write robust and fault-tolerant code. We’ll cover file handling, including reading from and writing to files, before diving into exception handling with try and except blocks. You’ll also learn about user-defined exceptions and Python’s built-in exception types.\n",
            "The biggest strength of Python is a huge collection of standard libraries which can be used for the following:\n",
            "Here, we’ll explore key data structures provided by Python’s collections module. From counting occurrences with Counters to efficient queue operations with Deque, we’ll cover it all. By mastering these collections, you’ll streamline your data management tasks in Python.\n",
            "In this section you will learn how to access and work with MySQL and MongoDB databases\n",
            "Here’s a comparison of Python with the programming languages C, C++, and Java in a table format:\n",
            "Let us now begin learning about various important steps required in this Python Tutorial.\n",
            "Python is a versatile and widely-used programming language with a vast ecosystem. Here are some areas where Python is commonly used:\n",
            "To achieve a solid understanding of Python, it’s very important to engage with Python quizzes and MCQs. These quizzes can enhance your ability to solve similar questions and improve your problem-solving skills.\n",
            "Here are some quiz articles related to Python Tutorial:\n",
            "\n",
            "Python recently release Python 3.12 in October 2023 and here in this section we have mentioned all the features that Python 3.12 offer. Along with this we have also mentioned the lasted trends.\n",
            "\n"
          ]
        }
      ]
    },
    {
      "cell_type": "code",
      "source": [],
      "metadata": {
        "id": "qQVFhlCCj8Tq"
      },
      "execution_count": null,
      "outputs": []
    }
  ]
}